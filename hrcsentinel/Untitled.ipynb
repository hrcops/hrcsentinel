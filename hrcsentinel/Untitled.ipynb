{
 "cells": [
  {
   "cell_type": "code",
   "execution_count": 2,
   "metadata": {},
   "outputs": [],
   "source": [
    "import argparse\n",
    "import datetime as dt\n",
    "import sys\n",
    "\n",
    "import matplotlib\n",
    "import matplotlib.dates as mdate\n",
    "import matplotlib.pyplot as plt\n",
    "import numpy as np\n",
    "import pytz\n",
    "\n",
    "# Ska / Cheta\n",
    "try:\n",
    "    from cheta import fetch\n",
    "    from kadi import events\n",
    "except ImportError:\n",
    "    sys.exit(\"Failed to import cheta (aka ska). Make sure you're using the latest version of the ska runtime environment (and that you have the conda environment initialized!).\")\n",
    "\n",
    "import event_times\n",
    "import msidlists\n",
    "# HRCSentinel stuff\n",
    "import plot_stylers\n",
    "from chandratime import (calc_time_to_next_comm, convert_chandra_time,\n",
    "                         convert_to_doy)\n",
    "from commbot import convert_bus_current_to_dn\n",
    "from plot_motors import make_motor_plots\n",
    "from plot_rates import make_shield_plot\n",
    "from plot_thermals import make_thermal_plots"
   ]
  },
  {
   "cell_type": "code",
   "execution_count": 3,
   "metadata": {},
   "outputs": [
    {
     "data": {
      "text/plain": [
       "[['2P24VBVL',\n",
       "  '2P15VBVL',\n",
       "  '2N15VBVL',\n",
       "  '2P05VBVL',\n",
       "  '2C05PALV',\n",
       "  '2C15PALV',\n",
       "  '2C15NALV',\n",
       "  '2C24PALV'],\n",
       " ['2PRBSVL'],\n",
       " ['2PRBSCR'],\n",
       " ['2PMT1T', '2PMT2T'],\n",
       " ['2DTSTATT', '2DCENTRT'],\n",
       " ['2FHTRMZT', '2FRADPYT', '2FEPRATM', '2FE00ATM'],\n",
       " ['2CHTRPZT', '2CEAHVPT'],\n",
       " ['2SPINATM', '2IMINATM'],\n",
       " ['2LVPLATM'],\n",
       " ['2SPHVATM', '2IMHVATM'],\n",
       " ['2TLEV1RT', '2VLEV1RT', '2SHEV1RT'],\n",
       " ['AOSARES1']]"
      ]
     },
     "execution_count": 3,
     "metadata": {},
     "output_type": "execute_result"
    }
   ],
   "source": [
    "msidlists.dashboard_msids_latest"
   ]
  },
  {
   "cell_type": "code",
   "execution_count": null,
   "metadata": {},
   "outputs": [],
   "source": [
    "for i in range(11):\n",
    "    "
   ]
  }
 ],
 "metadata": {
  "kernelspec": {
   "display_name": "Python [conda env:ska3] *",
   "language": "python",
   "name": "conda-env-ska3-py"
  },
  "language_info": {
   "codemirror_mode": {
    "name": "ipython",
    "version": 3
   },
   "file_extension": ".py",
   "mimetype": "text/x-python",
   "name": "python",
   "nbconvert_exporter": "python",
   "pygments_lexer": "ipython3",
   "version": "3.8.3"
  }
 },
 "nbformat": 4,
 "nbformat_minor": 4
}
